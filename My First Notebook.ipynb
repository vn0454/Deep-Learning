{
 "cells": [
  {
   "cell_type": "code",
   "execution_count": null,
   "id": "989319e7-0b03-4c83-b224-d0794dc46a77",
   "metadata": {},
   "outputs": [],
   "source": []
  }
 ],
 "metadata": {
  "kernelspec": {
   "display_name": "",
   "name": ""
  },
  "language_info": {
   "name": ""
  }
 },
 "nbformat": 4,
 "nbformat_minor": 5
}
